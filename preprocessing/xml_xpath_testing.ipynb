{
 "cells": [
  {
   "cell_type": "code",
   "execution_count": 23,
   "metadata": {},
   "outputs": [],
   "source": [
    "from lxml import etree"
   ]
  },
  {
   "cell_type": "code",
   "execution_count": 24,
   "metadata": {},
   "outputs": [],
   "source": [
    "# Testing the Trial Datasets and its TASD Task equivalent if both contain implicit and explicit sentences\n",
    "file_path_trial = \"..\\\\data\\\\original_data\\\\trial\\\\Trial.xml\"\n",
    "file_path_original = \"..\\\\data\\\\original_data\\\\trial\\\\REST16_Trial.xml\"\n",
    "\n",
    "trial_tree = etree.parse(file_path_trial)\n",
    "original_tree = etree.parse(file_path_original)\n",
    "\n",
    "\n",
    "\n",
    "# Explicit and Implicit\n",
    "sentences_trial = trial_tree.xpath(\"//aspect-term\")\n",
    "\n",
    "# Sum of explicit and implicit sentences\n",
    "sentences_original = original_tree.xpath(\"//Opinions/Opinion[@target]\")\n",
    "\n",
    "# Test\n",
    "assert len(sentences_original) == len(sentences_trial)"
   ]
  },
  {
   "cell_type": "code",
   "execution_count": 25,
   "metadata": {},
   "outputs": [],
   "source": [
    "# Testing the training and test dataset and its TASD Task counterpart\n",
    "\n",
    "\n",
    "# Original\n",
    "# Train\n",
    "file_path_train16 = \"..\\\\data\\\\original_data\\\\train\\\\ABSA16_Restaurants_Train_SB1_v2.xml\"\n",
    "file_path_train15 = \"..\\\\data\\\\original_data\\\\train\\\\ABSA-15_Restaurants_Train_Final.xml\"\n",
    "\n",
    "# Test\n",
    "file_path_test16 = \"..\\\\data\\\\original_data\\\\test\\\\EN_REST16_SB1_TEST_GOLD.xml\"\n",
    "file_path_test15 = \"..\\\\data\\\\original_data\\\\test\\\\ABSA15_Restaurants_Test.xml\"\n",
    "\n",
    "# TASD\n",
    "tasd_train16 = \"TASD_REST16_TRAIN.xml\"\n",
    "tasd_train15 = \"TASD_REST15_TRAIN.xml\"\n",
    "\n",
    "tasd_test16 = \"TASD_REST16_TEST.xml\"\n",
    "tasd_test15 = \"TASD_REST15_Test.xml\""
   ]
  },
  {
   "cell_type": "code",
   "execution_count": 26,
   "metadata": {},
   "outputs": [],
   "source": [
    "\n",
    "file_paths = {\n",
    "\n",
    "    \"rest16_train\": [file_path_train16, tasd_train16],\n",
    "    \"rest15_train\": [file_path_train15, tasd_train15],\n",
    "    \"rest16_test\": [file_path_test16, tasd_test16],\n",
    "    \"rest15_test\": [file_path_test15, tasd_test15]\n",
    "}"
   ]
  },
  {
   "cell_type": "code",
   "execution_count": 27,
   "metadata": {},
   "outputs": [],
   "source": [
    "def xpath_testing(file_paths: dict) -> None:\n",
    "    \"\"\"Tests if TASD Dataset and Original contain the same number of explicit and implicit sentences\n",
    "\n",
    "    Args:\n",
    "    - file_paths (dict): Dictionary with file paths\n",
    "    \"\"\"\n",
    "\n",
    "    for f in file_paths:\n",
    "        list_file_paths = file_paths[f]\n",
    "        \n",
    "        original_tree = etree.parse(list_file_paths[0])\n",
    "        tasd_tree = etree.parse(list_file_paths[1])\n",
    "\n",
    "        sent_original = original_tree.xpath(\"//Opinions/Opinion[@target]\") # returns sum of explicit and implicit targets\n",
    "        sent_tasd = tasd_tree.xpath(\"//aspect-term\") # returns explicit and implicit targets tagged with <aspect-term/>\n",
    "\n",
    "        print(f\"{len(sent_original)} - {len(sent_tasd)}\")\n",
    "\n",
    "        # Should be the same number\n",
    "        assert len(sent_original) == len(sent_tasd), \"AssertionError: Number of Explicit and Implicit targets are not equal\"\n",
    "\n",
    "\n",
    "        "
   ]
  },
  {
   "cell_type": "code",
   "execution_count": 28,
   "metadata": {},
   "outputs": [
    {
     "name": "stdout",
     "output_type": "stream",
     "text": [
      "2507 - 2507\n",
      "1654 - 1654\n",
      "859 - 859\n",
      "845 - 845\n"
     ]
    }
   ],
   "source": [
    "xpath_testing(file_paths=file_paths)"
   ]
  },
  {
   "cell_type": "code",
   "execution_count": null,
   "metadata": {},
   "outputs": [],
   "source": []
  }
 ],
 "metadata": {
  "kernelspec": {
   "display_name": "Python 3",
   "language": "python",
   "name": "python3"
  },
  "language_info": {
   "codemirror_mode": {
    "name": "ipython",
    "version": 3
   },
   "file_extension": ".py",
   "mimetype": "text/x-python",
   "name": "python",
   "nbconvert_exporter": "python",
   "pygments_lexer": "ipython3",
   "version": "3.12.0"
  }
 },
 "nbformat": 4,
 "nbformat_minor": 2
}
