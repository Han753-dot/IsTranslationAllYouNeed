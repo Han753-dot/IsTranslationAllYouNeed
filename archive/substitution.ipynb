{
 "cells": [
  {
   "cell_type": "code",
   "execution_count": 27,
   "metadata": {},
   "outputs": [],
   "source": [
    "import re"
   ]
  },
  {
   "cell_type": "code",
   "execution_count": 28,
   "metadata": {},
   "outputs": [],
   "source": [
    "sentence = 'The <aspect-term aspect=\"FOOD\" polarity=\"positive\">lava cake dessert</aspect-term> was incredible and I recommend it'\n",
    "german_sentence = 'Der |Lavendelkuchen| Dessert war unglaublich und ich empfehle es.'\n",
    "\n",
    "tags = re.findall(r\"<.*?>\", sentence)\n",
    "modified_text = re.sub(r\"<.*?>\", \"|\", sentence)"
   ]
  },
  {
   "cell_type": "code",
   "execution_count": 29,
   "metadata": {},
   "outputs": [
    {
     "data": {
      "text/plain": [
       "['<aspect-term aspect=\"FOOD\" polarity=\"positive\">', '</aspect-term>']"
      ]
     },
     "execution_count": 29,
     "metadata": {},
     "output_type": "execute_result"
    }
   ],
   "source": [
    "tags"
   ]
  },
  {
   "cell_type": "code",
   "execution_count": 30,
   "metadata": {},
   "outputs": [
    {
     "data": {
      "text/plain": [
       "'The |lava cake dessert| was incredible and I recommend it'"
      ]
     },
     "execution_count": 30,
     "metadata": {},
     "output_type": "execute_result"
    }
   ],
   "source": [
    "modified_text"
   ]
  },
  {
   "cell_type": "code",
   "execution_count": 31,
   "metadata": {},
   "outputs": [
    {
     "name": "stdout",
     "output_type": "stream",
     "text": [
      "<aspect-term aspect=\"FOOD\" polarity=\"positive\">\n",
      "Der <aspect-term aspect=\"FOOD\" polarity=\"positive\">Lavendelkuchen| Dessert war unglaublich und ich empfehle es.\n",
      "</aspect-term>\n",
      "Der <aspect-term aspect=\"FOOD\" polarity=\"positive\">Lavendelkuchen</aspect-term> Dessert war unglaublich und ich empfehle es.\n"
     ]
    },
    {
     "data": {
      "text/plain": [
       "'Der <aspect-term aspect=\"FOOD\" polarity=\"positive\">Lavendelkuchen</aspect-term> Dessert war unglaublich und ich empfehle es.'"
      ]
     },
     "execution_count": 31,
     "metadata": {},
     "output_type": "execute_result"
    }
   ],
   "source": [
    "for tag in tags:\n",
    "    print(tag)\n",
    "    german_sentence = german_sentence.replace(\"|\", tag, 1)\n",
    "    print(german_sentence)\n",
    "\n",
    "german_sentence"
   ]
  },
  {
   "cell_type": "code",
   "execution_count": null,
   "metadata": {},
   "outputs": [],
   "source": []
  },
  {
   "cell_type": "code",
   "execution_count": null,
   "metadata": {},
   "outputs": [],
   "source": []
  }
 ],
 "metadata": {
  "kernelspec": {
   "display_name": "Python 3",
   "language": "python",
   "name": "python3"
  },
  "language_info": {
   "codemirror_mode": {
    "name": "ipython",
    "version": 3
   },
   "file_extension": ".py",
   "mimetype": "text/x-python",
   "name": "python",
   "nbconvert_exporter": "python",
   "pygments_lexer": "ipython3",
   "version": "3.12.0"
  }
 },
 "nbformat": 4,
 "nbformat_minor": 2
}
